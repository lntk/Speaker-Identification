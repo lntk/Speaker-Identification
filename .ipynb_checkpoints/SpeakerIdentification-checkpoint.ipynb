{
 "cells": [
  {
   "cell_type": "code",
   "execution_count": 8,
   "metadata": {
    "collapsed": true
   },
   "outputs": [],
   "source": [
    "import MySI"
   ]
  },
  {
   "cell_type": "code",
   "execution_count": 9,
   "metadata": {
    "collapsed": true
   },
   "outputs": [],
   "source": [
    "si = MySI.SpeakerIdentification()"
   ]
  },
  {
   "cell_type": "code",
   "execution_count": 10,
   "metadata": {
    "collapsed": true
   },
   "outputs": [],
   "source": [
    "si.speaker_ids = {'khang': '8c3635c3-d4ce-4441-a2b7-cf040b018ba1', 'duy': '3722972a-24f6-4d94-a16a-d9210c00292c', 'dat': 'a0bc27b8-faf0-4b25-88fb-b7fbb2ad6429', 'hung': '0a9a3294-5866-49a7-8afb-2e06be61e1e8', 'quy': '2d21cbb9-f513-472c-afcc-c0090d768dc0', 'nhan': 'a65a1bbe-2ddf-40cc-b40e-6155bdbbf185', 'son': '119c0363-a588-4f9d-8a59-db021acb393a', 'phongvien': '3b62f5f2-d3b8-4746-843b-72faa94d20c6'}\n"
   ]
  },
  {
   "cell_type": "code",
   "execution_count": 11,
   "metadata": {
    "collapsed": true
   },
   "outputs": [],
   "source": [
    "si.save_speaker()"
   ]
  },
  {
   "cell_type": "code",
   "execution_count": 12,
   "metadata": {},
   "outputs": [
    {
     "data": {
      "text/plain": [
       "{'dat': 'a0bc27b8-faf0-4b25-88fb-b7fbb2ad6429',\n",
       " 'duy': '3722972a-24f6-4d94-a16a-d9210c00292c',\n",
       " 'hung': '0a9a3294-5866-49a7-8afb-2e06be61e1e8',\n",
       " 'khang': '8c3635c3-d4ce-4441-a2b7-cf040b018ba1',\n",
       " 'nhan': 'a65a1bbe-2ddf-40cc-b40e-6155bdbbf185',\n",
       " 'phongvien': '3b62f5f2-d3b8-4746-843b-72faa94d20c6',\n",
       " 'quy': '2d21cbb9-f513-472c-afcc-c0090d768dc0',\n",
       " 'son': '119c0363-a588-4f9d-8a59-db021acb393a'}"
      ]
     },
     "execution_count": 12,
     "metadata": {},
     "output_type": "execute_result"
    }
   ],
   "source": [
    "si.load_speaker()"
   ]
  },
  {
   "cell_type": "code",
   "execution_count": 6,
   "metadata": {},
   "outputs": [
    {
     "name": "stdout",
     "output_type": "stream",
     "text": [
      "Profile ID = a0bc27b8-faf0-4b25-88fb-b7fbb2ad6429\n",
      "Total Enrollment Speech Time = 47.76\n",
      "Remaining Enrollment Time = 0.0\n",
      "Speech Time = 47.76\n",
      "Enrollment Status = Enrolled\n",
      "Profile ID = 3722972a-24f6-4d94-a16a-d9210c00292c\n",
      "Total Enrollment Speech Time = 37.16\n",
      "Remaining Enrollment Time = 0.0\n",
      "Speech Time = 37.16\n",
      "Enrollment Status = Enrolled\n",
      "Profile ID = 0a9a3294-5866-49a7-8afb-2e06be61e1e8\n",
      "Total Enrollment Speech Time = 41.87\n",
      "Remaining Enrollment Time = 0.0\n",
      "Speech Time = 41.87\n",
      "Enrollment Status = Enrolled\n",
      "Profile ID = 8c3635c3-d4ce-4441-a2b7-cf040b018ba1\n",
      "Total Enrollment Speech Time = 45.6\n",
      "Remaining Enrollment Time = 0.0\n",
      "Speech Time = 45.6\n",
      "Enrollment Status = Enrolled\n",
      "Profile ID = a65a1bbe-2ddf-40cc-b40e-6155bdbbf185\n",
      "Total Enrollment Speech Time = 51.41\n",
      "Remaining Enrollment Time = 0.0\n",
      "Speech Time = 51.41\n",
      "Enrollment Status = Enrolled\n",
      "Profile ID = 3b62f5f2-d3b8-4746-843b-72faa94d20c6\n",
      "Total Enrollment Speech Time = 9.82\n",
      "Remaining Enrollment Time = 0.0\n",
      "Speech Time = 9.82\n",
      "Enrollment Status = Enrolled\n",
      "Profile ID = 2d21cbb9-f513-472c-afcc-c0090d768dc0\n",
      "Total Enrollment Speech Time = 52.34\n",
      "Remaining Enrollment Time = 0.0\n",
      "Speech Time = 52.34\n",
      "Enrollment Status = Enrolled\n",
      "Profile ID = 119c0363-a588-4f9d-8a59-db021acb393a\n",
      "Total Enrollment Speech Time = 45.94\n",
      "Remaining Enrollment Time = 0.0\n",
      "Speech Time = 45.94\n",
      "Enrollment Status = Enrolled\n"
     ]
    }
   ],
   "source": [
    "si.enrollAudio('dat')\n",
    "si.enrollAudio('duy')\n",
    "si.enrollAudio('hung')\n",
    "si.enrollAudio('khang')\n",
    "si.enrollAudio('nhan')\n",
    "si.enrollAudio('phongvien')\n",
    "si.enrollAudio('quy')\n",
    "si.enrollAudio('son')"
   ]
  },
  {
   "cell_type": "code",
   "execution_count": null,
   "metadata": {
    "collapsed": true
   },
   "outputs": [],
   "source": []
  },
  {
   "cell_type": "code",
   "execution_count": 7,
   "metadata": {},
   "outputs": [
    {
     "name": "stdout",
     "output_type": "stream",
     "text": [
      "{'khang': '8c3635c3-d4ce-4441-a2b7-cf040b018ba1', 'duy': '3722972a-24f6-4d94-a16a-d9210c00292c', 'dat': 'a0bc27b8-faf0-4b25-88fb-b7fbb2ad6429', 'hung': '0a9a3294-5866-49a7-8afb-2e06be61e1e8', 'quy': '2d21cbb9-f513-472c-afcc-c0090d768dc0', 'nhan': 'a65a1bbe-2ddf-40cc-b40e-6155bdbbf185', 'son': '119c0363-a588-4f9d-8a59-db021acb393a', 'phongvien': '3b62f5f2-d3b8-4746-843b-72faa94d20c6'}\n"
     ]
    }
   ],
   "source": [
    "print(si.speaker_ids)"
   ]
  },
  {
   "cell_type": "code",
   "execution_count": null,
   "metadata": {
    "collapsed": true
   },
   "outputs": [],
   "source": []
  }
 ],
 "metadata": {
  "kernelspec": {
   "display_name": "Python 3",
   "language": "python",
   "name": "python3"
  },
  "language_info": {
   "codemirror_mode": {
    "name": "ipython",
    "version": 3
   },
   "file_extension": ".py",
   "mimetype": "text/x-python",
   "name": "python",
   "nbconvert_exporter": "python",
   "pygments_lexer": "ipython3",
   "version": "3.6.3"
  }
 },
 "nbformat": 4,
 "nbformat_minor": 2
}
