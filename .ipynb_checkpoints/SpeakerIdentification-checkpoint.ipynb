{
 "cells": [
  {
   "cell_type": "code",
   "execution_count": 1,
   "metadata": {},
   "outputs": [],
   "source": [
    "import MySI"
   ]
  },
  {
   "cell_type": "code",
   "execution_count": 2,
   "metadata": {
    "collapsed": true
   },
   "outputs": [],
   "source": [
    "# utils.record(\"dataset\\\\enroll\\\\quy.wav\", 120)\n",
    "# MySI.enroll()"
   ]
  },
  {
   "cell_type": "code",
   "execution_count": 3,
   "metadata": {},
   "outputs": [
    {
     "name": "stdout",
     "output_type": "stream",
     "text": [
      "{}\n"
     ]
    }
   ],
   "source": [
    "MySI.speaker_ids = {}\n",
    "# MySI.save_speaker()\n",
    "print(MySI.speaker_ids)\n",
    "MySI.save_speaker()"
   ]
  },
  {
   "cell_type": "code",
   "execution_count": 4,
   "metadata": {},
   "outputs": [
    {
     "name": "stdout",
     "output_type": "stream",
     "text": [
      "Profile ID = 9bfcfd68-b15f-48f9-ba1a-67187aa5ea45\n",
      "Total Enrollment Speech Time = 45.6\n",
      "Remaining Enrollment Time = 0.0\n",
      "Speech Time = 45.6\n",
      "Enrollment Status = Enrolled\n",
      "Profile ID = 1d5bde59-5384-412b-bbd3-39fbc287e6f3\n",
      "Total Enrollment Speech Time = 37.16\n",
      "Remaining Enrollment Time = 0.0\n",
      "Speech Time = 37.16\n",
      "Enrollment Status = Enrolled\n",
      "Profile ID = d6b97999-d2b6-435a-bdeb-637cb1576ab0\n",
      "Total Enrollment Speech Time = 47.76\n",
      "Remaining Enrollment Time = 0.0\n",
      "Speech Time = 47.76\n",
      "Enrollment Status = Enrolled\n",
      "Profile ID = 12370ea3-210c-4fed-9487-a6b6c1d4a4e4\n",
      "Total Enrollment Speech Time = 41.87\n",
      "Remaining Enrollment Time = 0.0\n",
      "Speech Time = 41.87\n",
      "Enrollment Status = Enrolled\n",
      "Profile ID = 679f8743-ff66-4c1b-9fa8-75d55632faf5\n",
      "Total Enrollment Speech Time = 52.34\n",
      "Remaining Enrollment Time = 0.0\n",
      "Speech Time = 52.34\n",
      "Enrollment Status = Enrolled\n"
     ]
    }
   ],
   "source": [
    "MySI.enrollAudio(\"khang\")\n",
    "MySI.enrollAudio(\"duy\")\n",
    "MySI.enrollAudio(\"dat\")\n",
    "MySI.enrollAudio(\"hung\")\n",
    "MySI.enrollAudio(\"quy\")"
   ]
  },
  {
   "cell_type": "code",
   "execution_count": 5,
   "metadata": {},
   "outputs": [
    {
     "name": "stdout",
     "output_type": "stream",
     "text": [
      "hung is speaking.\n",
      "Identified Speaker = hung\n",
      "hung is speaking.\n",
      "Identified Speaker = hung\n",
      "quy is speaking.\n",
      "Identified Speaker = quy\n"
     ]
    }
   ],
   "source": [
    "# MySI.identify()\n",
    "MySI.test(\"hung\")\n",
    "MySI.test(\"hung\")\n",
    "MySI.test(\"quy\")"
   ]
  },
  {
   "cell_type": "code",
   "execution_count": null,
   "metadata": {
    "collapsed": true
   },
   "outputs": [],
   "source": []
  },
  {
   "cell_type": "code",
   "execution_count": null,
   "metadata": {
    "collapsed": true
   },
   "outputs": [],
   "source": []
  }
 ],
 "metadata": {
  "kernelspec": {
   "display_name": "Python 3",
   "language": "python",
   "name": "python3"
  },
  "language_info": {
   "codemirror_mode": {
    "name": "ipython",
    "version": 3
   },
   "file_extension": ".py",
   "mimetype": "text/x-python",
   "name": "python",
   "nbconvert_exporter": "python",
   "pygments_lexer": "ipython3",
   "version": "3.6.3"
  }
 },
 "nbformat": 4,
 "nbformat_minor": 2
}
