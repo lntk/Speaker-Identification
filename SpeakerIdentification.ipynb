{
 "cells": [
  {
   "cell_type": "code",
   "execution_count": 1,
   "metadata": {
    "collapsed": true
   },
   "outputs": [],
   "source": [
    "import MySI"
   ]
  },
  {
   "cell_type": "code",
   "execution_count": 2,
   "metadata": {
    "collapsed": true
   },
   "outputs": [],
   "source": [
    "# utils.record(\"dataset\\\\enroll\\\\quy.wav\", 120)\n",
    "# MySI.enroll()"
   ]
  },
  {
   "cell_type": "code",
   "execution_count": 3,
   "metadata": {},
   "outputs": [],
   "source": [
    "si = MySI.SpeakerIdentification()\n",
    "si.speaker_ids = {'khang':'9bfcfd68-b15f-48f9-ba1a-67187aa5ea45', \n",
    "                 'duy':'1d5bde59-5384-412b-bbd3-39fbc287e6f3',\n",
    "                 'dat':'d6b97999-d2b6-435a-bdeb-637cb1576ab0',\n",
    "                 'hung':'12370ea3-210c-4fed-9487-a6b6c1d4a4e4',\n",
    "                 'quy':'679f8743-ff66-4c1b-9fa8-75d55632faf5'}\n",
    "si.save_speaker()"
   ]
  },
  {
   "cell_type": "code",
   "execution_count": 4,
   "metadata": {},
   "outputs": [
    {
     "name": "stdout",
     "output_type": "stream",
     "text": [
      "Profile ID = 282a60ec-cb6a-463e-9f3d-ec516a1b49df\n",
      "Total Enrollment Speech Time = 51.41\n",
      "Remaining Enrollment Time = 0.0\n",
      "Speech Time = 51.41\n",
      "Enrollment Status = Enrolled\n",
      "Profile ID = ec38eb67-27e2-4e30-a0b8-30b09bee4d57\n",
      "Total Enrollment Speech Time = 45.94\n",
      "Remaining Enrollment Time = 0.0\n",
      "Speech Time = 45.94\n",
      "Enrollment Status = Enrolled\n"
     ]
    }
   ],
   "source": [
    "si.enrollAudio('nhan')\n",
    "si.enrollAudio('son')"
   ]
  },
  {
   "cell_type": "code",
   "execution_count": 5,
   "metadata": {},
   "outputs": [
    {
     "name": "stdout",
     "output_type": "stream",
     "text": [
      "{'khang': '9bfcfd68-b15f-48f9-ba1a-67187aa5ea45', 'duy': '1d5bde59-5384-412b-bbd3-39fbc287e6f3', 'dat': 'd6b97999-d2b6-435a-bdeb-637cb1576ab0', 'hung': '12370ea3-210c-4fed-9487-a6b6c1d4a4e4', 'quy': '679f8743-ff66-4c1b-9fa8-75d55632faf5', 'nhan': '282a60ec-cb6a-463e-9f3d-ec516a1b49df', 'son': 'ec38eb67-27e2-4e30-a0b8-30b09bee4d57'}\n"
     ]
    }
   ],
   "source": [
    "print(si.speaker_ids)"
   ]
  },
  {
   "cell_type": "code",
   "execution_count": null,
   "metadata": {
    "collapsed": true
   },
   "outputs": [],
   "source": []
  }
 ],
 "metadata": {
  "kernelspec": {
   "display_name": "Python 3",
   "language": "python",
   "name": "python3"
  },
  "language_info": {
   "codemirror_mode": {
    "name": "ipython",
    "version": 3
   },
   "file_extension": ".py",
   "mimetype": "text/x-python",
   "name": "python",
   "nbconvert_exporter": "python",
   "pygments_lexer": "ipython3",
   "version": "3.6.3"
  }
 },
 "nbformat": 4,
 "nbformat_minor": 2
}
